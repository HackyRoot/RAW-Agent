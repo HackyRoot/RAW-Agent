{
 "cells": [
  {
   "cell_type": "markdown",
   "metadata": {},
   "source": [
    "# Function Calling with Ollama"
   ]
  },
  {
   "cell_type": "markdown",
   "metadata": {},
   "source": [
    "## Prererequisites"
   ]
  },
  {
   "cell_type": "markdown",
   "metadata": {},
   "source": [
    "### Download llama3.1 model"
   ]
  },
  {
   "cell_type": "code",
   "execution_count": null,
   "metadata": {},
   "outputs": [],
   "source": [
    "!ollama pull llama3.1"
   ]
  },
  {
   "cell_type": "code",
   "execution_count": 127,
   "metadata": {},
   "outputs": [
    {
     "name": "stdout",
     "output_type": "stream",
     "text": [
      "NAME                       \tID          \tSIZE  \tMODIFIED     \n",
      "gemma2:2b                  \t8ccf136fdd52\t1.6 GB\t34 hours ago\t\n",
      "phi3:latest                \t4f2222927938\t2.2 GB\t35 hours ago\t\n",
      "llama3-groq-tool-use:latest\t36211dad2b15\t4.7 GB\t2 weeks ago \t\n",
      "llama3.1:latest            \t62757c860e01\t4.7 GB\t2 weeks ago \t\n",
      "deepseek-coder-v2:latest   \t8577f96d693e\t8.9 GB\t2 months ago\t\n",
      "phi3:3.8b                  \ta2c89ceaed85\t2.3 GB\t3 months ago\t\n",
      "llama3:latest              \t71a106a91016\t4.7 GB\t4 months ago\t\n",
      "sqlcoder:latest            \t77ac14348387\t4.1 GB\t4 months ago\t\n",
      "mistral:latest             \t61e88e884507\t4.1 GB\t4 months ago\t\n",
      "llava:latest               \tcd3274b81a85\t4.5 GB\t7 months ago\t\n"
     ]
    }
   ],
   "source": [
    "!ollama list"
   ]
  },
  {
   "cell_type": "markdown",
   "metadata": {},
   "source": [
    "## Import necessary packaegs"
   ]
  },
  {
   "cell_type": "code",
   "execution_count": 128,
   "metadata": {},
   "outputs": [],
   "source": [
    "import requests, ollama"
   ]
  },
  {
   "cell_type": "markdown",
   "metadata": {},
   "source": [
    "### Chat with your Model"
   ]
  },
  {
   "cell_type": "code",
   "execution_count": 129,
   "metadata": {},
   "outputs": [
    {
     "data": {
      "text/plain": [
       "\"It looks like I'm supposed to provide a question for you to answer, but I didn't actually receive one.\\n\\nLet me try again. Here's my revised approach:\\n\\nI'll ask a question, and then you can respond with an answer!\\n\\nHere's my question:\\n\\nWhat is the best way to learn something new?\""
      ]
     },
     "execution_count": 129,
     "metadata": {},
     "output_type": "execute_result"
    }
   ],
   "source": [
    "response = ollama.chat(\n",
    "    model='llama3.1',\n",
    "    messages=[{'role': 'user', 'content': 'YOUR QUESTION HERE'}],  # add your question under content\n",
    "    stream=False,\n",
    ")\n",
    "\n",
    "response['message']['content']"
   ]
  },
  {
   "cell_type": "markdown",
   "metadata": {},
   "source": [
    "### Prompting"
   ]
  },
  {
   "cell_type": "code",
   "execution_count": 130,
   "metadata": {},
   "outputs": [
    {
     "name": "stdout",
     "output_type": "stream",
     "text": [
      "New Delhi, the capital city of India, is located in the northern part of the country. Specifically, it is situated:\n",
      "\n",
      "* In the National Capital Territory (NCT) of Delhi\n",
      "* In the state of Delhi\n",
      "* On the Yamuna River, which flows through the heart of the city\n",
      "* Approximately 1,000 kilometers (620 miles) north of the Indian Ocean and the Bay of Bengal\n",
      "\n",
      "Geographically, New Delhi is positioned at:\n",
      "\n",
      "* Latitude: 28.7041° N\n",
      "* Longitude: 77.1025° E\n",
      "* Elevation: 216 meters (709 feet) above sea level\n",
      "\n",
      "New Delhi is a densely populated metropolis with over 29 million people, making it one of the most populous cities in India and the world!\n"
     ]
    }
   ],
   "source": [
    "response = ollama.chat(\n",
    "    model='llama3.1',\n",
    "    messages=[{'role': 'user', 'content': 'Where is New Delhi located'}], \n",
    "    stream=False,\n",
    ")\n",
    "\n",
    "print(response['message']['content'])"
   ]
  },
  {
   "cell_type": "code",
   "execution_count": 131,
   "metadata": {},
   "outputs": [
    {
     "name": "stdout",
     "output_type": "stream",
     "text": [
      "The decimal latitude of New Delhi is 28.7041° N, and the decimal longitude is 77.1025° E.\n"
     ]
    }
   ],
   "source": [
    "response = ollama.chat(\n",
    "    model='llama3.1',\n",
    "    messages=[{'role': 'user', 'content': f'What are the decimal latitude and longitude of the New Delhi City?'}],\n",
    "    stream=False,\n",
    ")\n",
    "\n",
    "print(response['message']['content'])"
   ]
  },
  {
   "cell_type": "code",
   "execution_count": 137,
   "metadata": {},
   "outputs": [
    {
     "name": "stdout",
     "output_type": "stream",
     "text": [
      "{ \"latitude\": 28.7041, \"longitude\": 77.1025 }\n"
     ]
    }
   ],
   "source": [
    "response = ollama.chat(\n",
    "    model='llama3.1',\n",
    "    messages=[{'role': 'user', 'content': f'What are the decimal latitude and longitude of the New Delhi City?'}],\n",
    "    stream=False,\n",
    "    format='json'\n",
    ")\n",
    "\n",
    "print(response['message']['content'])"
   ]
  },
  {
   "cell_type": "code",
   "execution_count": 138,
   "metadata": {},
   "outputs": [
    {
     "name": "stdout",
     "output_type": "stream",
     "text": [
      "Count 0\n",
      "Response: {   \"latitude\": 28.7041, \n",
      "  \"longitude\": 77.1025}\n",
      "Count 1\n",
      "Response: {   }\n",
      "Count 2\n",
      "Response: {  \"28.7041° N, 77.1023° E\" : {\n",
      "    \"lat\": 28.7041,\n",
      "    \"lon\": 77.1023\n",
      "} }\n",
      "Count 3\n",
      "Response: {   }\n",
      "\n",
      "      \n",
      "\n",
      "\n",
      "     \n",
      "Count 4\n",
      "Response: {   \"New Delhi\": {\n",
      "      \"@context\": \"https://www.geonames.org/2619095/delhi/new-delhi.html\",\n",
      "      \"coordinates\": [28.7041, 77.0986],\n",
      "      \"continentName\": \"Asia\",\n",
      "      \"countryISOCode\": \"IN\"\n",
      "    } \n",
      "\n",
      "}\n",
      "\n",
      "    \t\t\t\t\t\t\t\t\t\n",
      "\t\t\n",
      "\n",
      "    \t\n",
      "\n",
      "\n",
      "\n",
      "     \t\n",
      "\n",
      "\n",
      "\n",
      "\t\t\n",
      "\n",
      "\n",
      "\n",
      "\t\t\n",
      "\n",
      "\n",
      "\n",
      "\n",
      "\n",
      "     \t \n"
     ]
    }
   ],
   "source": [
    "# try asking the same question multiple times to ensure the consistancy\n",
    "for i in range(5):\n",
    "    response = ollama.chat(\n",
    "    model='llama3.1',\n",
    "    messages=[{'role': 'user', 'content': f'What are the decimal latitude and longitude of the New Delhi City?'}],\n",
    "    stream=False,\n",
    "    format='json'\n",
    "    )   \n",
    "\n",
    "    print(\"Count\", i)\n",
    "    print(\"Response:\", response['message']['content'])"
   ]
  },
  {
   "cell_type": "code",
   "execution_count": 140,
   "metadata": {},
   "outputs": [
    {
     "name": "stdout",
     "output_type": "stream",
     "text": [
      "{\n",
      "  \"latitude\": 28.7041,\n",
      "  \"longitude\": 77.1025\n",
      "}\n"
     ]
    }
   ],
   "source": [
    "response = ollama.chat(\n",
    "    model='llama3.1',\n",
    "    messages=[\n",
    "        {'role': 'system', 'content': \"\"\"\n",
    "        You are an helpful AI agent. The user will provide a country name and you will return the decimal latitude and longitude of \n",
    "        the given city. Output in the JSON\"\"\"},\n",
    "        {'role': 'user', 'content': f'What are the decimal latitude and longitude of the New Delhi City?'}],\n",
    "    stream=False,\n",
    "    format='json'\n",
    ")\n",
    "\n",
    "print(response['message']['content'])\n"
   ]
  },
  {
   "cell_type": "code",
   "execution_count": 141,
   "metadata": {},
   "outputs": [
    {
     "name": "stdout",
     "output_type": "stream",
     "text": [
      "{ \"name\": \"Helpful AI Agent\", \"description\": \"I can assist with various tasks, such as providing information about countries, cities, and their coordinates.\" }\n"
     ]
    }
   ],
   "source": [
    "# try asking a question other than the weather information to see how the model reacts\n",
    "response = ollama.chat(\n",
    "    model='llama3.1',\n",
    "    messages=[\n",
    "        {'role': 'system', 'content': \"\"\"\n",
    "        You are an helpful AI agent. The user will provide a country name and you will return the decimal latitude and longitude of \n",
    "        the given city. Output in the JSON\"\"\"},\n",
    "        {'role': 'user', 'content': f'Who are you'}],\n",
    "    stream=False,\n",
    "    format='json'\n",
    ")\n",
    "\n",
    "print(response['message']['content'])\n",
    "\n"
   ]
  },
  {
   "cell_type": "code",
   "execution_count": 142,
   "metadata": {},
   "outputs": [
    {
     "name": "stdout",
     "output_type": "stream",
     "text": [
      "Count 0\n",
      "Response: {\n",
      "  \"latitude\": 28.7041,\n",
      "  \"longitude\": 77.1025\n",
      "}\n",
      "Count 1\n",
      "Response: {\n",
      "  \"latitude\": 28.7041,\n",
      "  \"longitude\": 77.1025\n",
      "}\n",
      "Count 2\n",
      "Response: {\n",
      "  \"latitude\": 28.7041,\n",
      "  \"longitude\": 77.1025\n",
      "}\n",
      "Count 3\n",
      "Response: {\n",
      "  \"latitude\": 28.7041,\n",
      "  \"longitude\": 77.1025\n",
      "}\n",
      "Count 4\n",
      "Response: {\n",
      "  \"latitude\": 28.7041,\n",
      "  \"longitude\": 77.1025\n",
      "}\n",
      "Count 5\n",
      "Response: {\n",
      "  \"latitude\": 28.7041,\n",
      "  \"longitude\": 77.1025\n",
      "}\n",
      "Count 6\n",
      "Response: {\n",
      "  \"latitude\": 28.7041,\n",
      "  \"longitude\": 77.1025\n",
      "}\n",
      "Count 7\n",
      "Response: {\n",
      "  \"latitude\": 28.7041,\n",
      "  \"longitude\": 77.1025\n",
      "}\n",
      "Count 8\n",
      "Response: {\n",
      "  \"latitude\": 28.7041,\n",
      "  \"longitude\": 77.1025\n",
      "}\n",
      "Count 9\n",
      "Response: {\n",
      "  \"latitude\": 28.7041,\n",
      "  \"longitude\": 77.1025\n",
      "}\n"
     ]
    }
   ],
   "source": [
    "for i in range(10):\n",
    "\n",
    "    response = ollama.chat(\n",
    "        model='llama3.1',\n",
    "        messages=[\n",
    "            {'role': 'system', 'content': \"\"\"\n",
    "            You are an helpful AI agent. The user will provide a country name and you will return the decimal latitude and longitude of \n",
    "            the given city. Output in the JSON\"\"\"},\n",
    "            {'role': 'user', 'content': f'What are the decimal latitude and longitude of the New Delhi City?'}],\n",
    "        stream=False,\n",
    "        format='json'\n",
    "    )\n",
    "\n",
    "    response['message']['content']\n",
    "\n",
    "    print(\"Count\", i)\n",
    "    print(\"Response:\", response['message']['content'])\n",
    "\n"
   ]
  },
  {
   "cell_type": "markdown",
   "metadata": {},
   "source": [
    "### Function Calling"
   ]
  },
  {
   "cell_type": "code",
   "execution_count": 144,
   "metadata": {},
   "outputs": [],
   "source": [
    "prompt = \"What does it feel like in Delhi?\"\n",
    "\n",
    "response = ollama.chat(\n",
    "        model=\"llama3.1\",\n",
    "        tools=[{\n",
    "            \"type\": \"function\",\n",
    "            \"function\": {\n",
    "                \"name\": \"fetch_weather\",\n",
    "                \"description\": \"Get the current weather for a city\",\n",
    "                \"parameters\": {\n",
    "                \"type\": \"object\",\n",
    "                \"properties\": {            \n",
    "                    \"city\": {\n",
    "                    \"type\": \"string\",\n",
    "                    \"description\": \"Name of the city i.e. New Delhi\"\n",
    "                    },\n",
    "                    \"lat\": {\n",
    "                    \"type\": \"float\",\n",
    "                    \"description\": \"Decimal latitude of the city\"\n",
    "                    },\n",
    "                    \n",
    "                    \"lon\": {\n",
    "                        \"type\": \"float\",\n",
    "                        \"description\": \"Decimal longitude of the city\"\n",
    "                    },\n",
    "                },\n",
    "                \"required\": [\"city\", \"lat\", \"lon\"],\n",
    "                },\n",
    "            },\n",
    "        },\n",
    "        ],\n",
    "        messages=[\n",
    "        {'role': 'user', 'content': prompt}],\n",
    ")"
   ]
  },
  {
   "cell_type": "code",
   "execution_count": 145,
   "metadata": {},
   "outputs": [
    {
     "name": "stdout",
     "output_type": "stream",
     "text": [
      "{'function': {'name': 'fetch_weather', 'arguments': {'city': 'New Delhi', 'lat': 28.7041, 'lon': 77.1025}}}\n"
     ]
    }
   ],
   "source": [
    "print(response['message']['tool_calls'][0])"
   ]
  },
  {
   "cell_type": "code",
   "execution_count": 146,
   "metadata": {},
   "outputs": [],
   "source": [
    "import dotenv, os\n",
    "dotenv.load_dotenv()\n",
    "WEATHER_API_KEY = os.getenv('WEATHER_API_KEY')\n",
    "\n",
    "def fetch_weather(lat: float, lon: float, city: str):\n",
    "    request_url = f'https://api.weatherapi.com/v1/current.json?q={lat},{lon}&key={WEATHER_API_KEY}'\n",
    "    \n",
    "    weather = requests.get(request_url).json()    \n",
    "    current_temp_c = weather['current']['temp_c']\n",
    "    feels_like_temp_c = weather['current']['feelslike_c']\n",
    "    response_string = f\"Current temperature in {city} is {current_temp_c} degrees Celsius and feels like {feels_like_temp_c} degrees Celsius\"\n",
    "    return(response_string)\n"
   ]
  },
  {
   "cell_type": "code",
   "execution_count": 150,
   "metadata": {},
   "outputs": [
    {
     "name": "stdout",
     "output_type": "stream",
     "text": [
      "Function Name:  fetch_weather\n",
      "Function Arguments:  {'city': 'New Delhi', 'lat': 28.7041, 'lon': 77.1025}\n"
     ]
    }
   ],
   "source": [
    "# Extract the function name and arguments from the response\n",
    "function_name = response['message']['tool_calls'][0]['function']['name']\n",
    "print(\"Function Name: \", function_name)\n",
    "\n",
    "arguments = response['message']['tool_calls'][0]['function']['arguments']\n",
    "print(\"Function Arguments: \", arguments)\n"
   ]
  },
  {
   "cell_type": "code",
   "execution_count": 151,
   "metadata": {},
   "outputs": [
    {
     "name": "stdout",
     "output_type": "stream",
     "text": [
      "Current temperature in New Delhi is 29.0 degrees Celsius and feels like 31.8 degrees Celsius\n"
     ]
    }
   ],
   "source": [
    "# Dynamically call the appropriate function\n",
    "try:\n",
    "    # Fetch the function by name from the current module (use globals() to access the current global scope)\n",
    "    function_to_call = globals()[function_name]\n",
    "    \n",
    "    # Call the function with the arguments (using **arguments to unpack the dictionary)\n",
    "    result = function_to_call(**arguments)    \n",
    "    \n",
    "    # Print or process the result\n",
    "    print(result)\n",
    "except KeyError:\n",
    "    print(f\"Function {function_name} not found.\")\n",
    "except TypeError as e:\n",
    "    print(f\"Error calling function {function_name}: {e}\")"
   ]
  },
  {
   "cell_type": "code",
   "execution_count": null,
   "metadata": {},
   "outputs": [],
   "source": []
  }
 ],
 "metadata": {
  "kernelspec": {
   "display_name": "agent",
   "language": "python",
   "name": "python3"
  },
  "language_info": {
   "codemirror_mode": {
    "name": "ipython",
    "version": 3
   },
   "file_extension": ".py",
   "mimetype": "text/x-python",
   "name": "python",
   "nbconvert_exporter": "python",
   "pygments_lexer": "ipython3",
   "version": "3.11.4"
  }
 },
 "nbformat": 4,
 "nbformat_minor": 2
}
